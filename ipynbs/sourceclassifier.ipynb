{
  "nbformat": 4,
  "nbformat_minor": 0,
  "metadata": {
    "colab": {
      "name": "sourceclassifier.ipynb",
      "provenance": [],
      "collapsed_sections": []
    },
    "kernelspec": {
      "name": "python3",
      "display_name": "Python 3"
    },
    "language_info": {
      "name": "python"
    },
    "accelerator": "GPU"
  },
  "cells": [
    {
      "cell_type": "code",
      "metadata": {
        "id": "0nWLsHb4MGMO"
      },
      "source": [
        "from torchvision import datasets, transforms\n",
        "import torch\n",
        "from __future__ import print_function\n",
        "import torch\n",
        "import torch.nn.functional as F\n",
        "from torch.autograd import Variable\n",
        "import os\n",
        "import math\n",
        "import torch.nn as nn\n",
        "import math\n",
        "import torch.utils.model_zoo as model_zoo\n",
        "import torch.nn.functional as F\n",
        "import torch\n",
        "import copy"
      ],
      "execution_count": null,
      "outputs": []
    },
    {
      "cell_type": "code",
      "metadata": {
        "id": "-maZE5ZdHI84"
      },
      "source": [
        "from google.colab import drive\n",
        "drive.mount('/content/gdrive')"
      ],
      "execution_count": null,
      "outputs": []
    },
    {
      "cell_type": "code",
      "metadata": {
        "id": "URRuXZA9HJFD"
      },
      "source": [
        "%cd gdrive/My Drive/Deep learning"
      ],
      "execution_count": null,
      "outputs": []
    },
    {
      "cell_type": "markdown",
      "metadata": {
        "id": "ZS6ZTzGSMUvb"
      },
      "source": [
        "Dataloader"
      ]
    },
    {
      "cell_type": "code",
      "metadata": {
        "id": "tn5EEzUQMTwV"
      },
      "source": [
        "def load_training(root_path, dir, batch_size, kwargs):\n",
        "    transform = transforms.Compose(\n",
        "        [transforms.Resize([256, 256]),\n",
        "         transforms.RandomCrop(224),\n",
        "         transforms.RandomHorizontalFlip(),\n",
        "         transforms.ToTensor()])\n",
        "    data = datasets.ImageFolder(root=root_path + dir, transform=transform)\n",
        "    train_loader = torch.utils.data.DataLoader(data, batch_size=batch_size, shuffle=True, drop_last=True, **kwargs)\n",
        "    return train_loader\n",
        "\n",
        "def load_testing(root_path, dir, batch_size, kwargs):\n",
        "    transform = transforms.Compose(\n",
        "        [transforms.Resize([224, 224]),\n",
        "         transforms.ToTensor()])\n",
        "    data = datasets.ImageFolder(root=root_path + dir, transform=transform)\n",
        "    test_loader = torch.utils.data.DataLoader(data, batch_size=batch_size, shuffle=True, **kwargs)\n",
        "    return test_loader"
      ],
      "execution_count": null,
      "outputs": []
    },
    {
      "cell_type": "markdown",
      "metadata": {
        "id": "YNp3TWLyEV5R"
      },
      "source": [
        "# source classifier (include source feature extractor)"
      ]
    },
    {
      "cell_type": "code",
      "metadata": {
        "id": "_9CW_nu6EVF9"
      },
      "source": [
        "class SourceClassifer(nn.Module):\n",
        "    def __init__(self, f_dim=256, n_classes=65):\n",
        "        super(SourceClassifer, self).__init__()\n",
        "\n",
        "        self.f_dim = f_dim\n",
        "        self.n_classes = n_classes\n",
        "\n",
        "        # Get ResNet50 model\n",
        "        ResNet50 = torch.hub.load('pytorch/vision:v0.6.0', 'resnet50', pretrained=True)\n",
        "        ResNet50.fc = nn.Identity()\n",
        "        self.ResNet50 = ResNet50\n",
        "\n",
        "        self.extractor1 = nn.Sequential(\n",
        "            nn.Linear(2048, 1024),\n",
        "            nn.ELU(),\n",
        "            nn.Linear(1024, 1024),\n",
        "            nn.BatchNorm1d(1024),  # expect 2-D input\n",
        "            nn.ELU(),\n",
        "            nn.Linear(1024, self.f_dim),\n",
        "            nn.ELU(),\n",
        "            nn.Linear(self.f_dim, self.f_dim),\n",
        "            nn.BatchNorm1d(self.f_dim),\n",
        "            nn.ELU()\n",
        "        )\n",
        "\n",
        "        self.extractor2 = nn.Sequential(\n",
        "            nn.Linear(2048, 1024),\n",
        "            nn.ELU(),\n",
        "            nn.Linear(1024, 1024),\n",
        "            nn.BatchNorm1d(1024),  # expect 2-D input\n",
        "            nn.ELU(),\n",
        "            nn.Linear(1024, self.f_dim),\n",
        "            nn.ELU(),\n",
        "            nn.Linear(self.f_dim, self.f_dim),\n",
        "            nn.BatchNorm1d(self.f_dim),\n",
        "            nn.ELU()\n",
        "        )\n",
        "\n",
        "        self.extractor3 = nn.Sequential(\n",
        "            nn.Linear(2048, 1024),\n",
        "            nn.ELU(),\n",
        "            nn.Linear(1024, 1024),\n",
        "            nn.BatchNorm1d(1024),  # expect 2-D input\n",
        "            nn.ELU(),\n",
        "            nn.Linear(1024, self.f_dim),\n",
        "            nn.ELU(),\n",
        "            nn.Linear(self.f_dim, self.f_dim),\n",
        "            nn.BatchNorm1d(self.f_dim),\n",
        "            nn.ELU()\n",
        "        )\n",
        "\n",
        "        self.cls1 = nn.Linear(self.f_dim, self.n_classes)\n",
        "        self.cls2 = nn.Linear(self.f_dim, self.n_classes)\n",
        "        self.cls3 = nn.Linear(self.f_dim, self.n_classes)\n",
        "\n",
        "    def forward(self, data_src, label_src=0, mark=1, training=True):\n",
        "        \n",
        "        if training == True:\n",
        "            h1 = self.ResNet50(data_src)\n",
        "            h1 = torch.flatten(h1, start_dim=1)  # size: (batch_size, dim)\n",
        "\n",
        "            if mark == 1:\n",
        "                feature1 = self.extractor1(h1)\n",
        "                pred1 = self.cls1(feature1)\n",
        "\n",
        "                cls_loss = F.cross_entropy(pred1, label_src)\n",
        "\n",
        "                return cls_loss\n",
        "\n",
        "            if mark == 2:\n",
        "                feature2 = self.extractor2(h1)\n",
        "                pred2 = self.cls2(feature2)\n",
        "\n",
        "                cls_loss = F.cross_entropy(pred2, label_src)\n",
        "\n",
        "                return cls_loss\n",
        "\n",
        "            if mark == 3:\n",
        "                feature3 = self.extractor3(h1)\n",
        "                pred3 = self.cls3(feature3)\n",
        "\n",
        "                cls_loss = F.cross_entropy(pred3, label_src)\n",
        "\n",
        "                return cls_loss\n",
        "\n",
        "        else:\n",
        "            h1 = self.ResNet50(data_src)\n",
        "            h1 = torch.flatten(h1, start_dim=1)  # size: (batch_size, dim)\n",
        "\n",
        "            feature1 = self.extractor1(h1)\n",
        "            pred1 = self.cls1(feature1)\n",
        "\n",
        "            feature2 = self.extractor2(h1)\n",
        "            pred2 = self.cls2(feature2)\n",
        "\n",
        "            feature3 = self.extractor3(h1)\n",
        "            pred3 = self.cls3(feature3)\n",
        "\n",
        "            return pred1, pred2, pred3, feature1, feature2, feature3\n"
      ],
      "execution_count": null,
      "outputs": []
    },
    {
      "cell_type": "code",
      "metadata": {
        "id": "PeoQpI-WEVYk"
      },
      "source": [
        ""
      ],
      "execution_count": null,
      "outputs": []
    },
    {
      "cell_type": "markdown",
      "metadata": {
        "id": "S811kwGlN5tA"
      },
      "source": [
        "train and test function"
      ]
    },
    {
      "cell_type": "code",
      "metadata": {
        "id": "_o_eoyFzN9n6"
      },
      "source": [
        "batch_size = 16\n",
        "iteration = 6000 // 16\n",
        "epoch = 10\n",
        "cuda = True\n",
        "seed = 8\n",
        "log_interval = 20\n",
        "class_num = 65\n",
        "root_path = \"./Dataset/\"\n",
        "source1_name = \"Art\"\n",
        "source2_name = 'Clipart'\n",
        "source3_name = 'Product'\n",
        "target_name = \"Real World\"\n",
        "\n",
        "torch.manual_seed(seed)\n",
        "if cuda:\n",
        "    torch.cuda.manual_seed(seed)\n",
        "\n",
        "kwargs = {'num_workers': 1, 'pin_memory': True} if cuda else {}\n",
        "\n",
        "def train(model):\n",
        "    source1_loader = load_training(root_path, source1_name, batch_size, kwargs)\n",
        "    source2_loader = load_training(root_path, source2_name, batch_size, kwargs)\n",
        "    source3_loader = load_training(root_path, source3_name, batch_size, kwargs)\n",
        "\n",
        "    source1_iter = iter(source1_loader)\n",
        "    source2_iter = iter(source2_loader)\n",
        "    source3_iter = iter(source3_loader)\n",
        "\n",
        "    for i in range(1, iteration + 1):\n",
        "        model.train()\n",
        "        LEARNING_RATE_RES = 1e-5\n",
        "        LEARNING_RATE = 1e-4\n",
        "        optimizer = torch.optim.Adam([\n",
        "            {'params': model.ResNet50.parameters(), 'lr': LEARNING_RATE_RES},\n",
        "            {'params': model.extractor1.parameters(), 'lr': LEARNING_RATE},\n",
        "            {'params': model.extractor2.parameters(), 'lr': LEARNING_RATE},\n",
        "            {'params': model.extractor3.parameters(), 'lr': LEARNING_RATE},\n",
        "            {'params': model.cls1.parameters(), 'lr': LEARNING_RATE},\n",
        "            {'params': model.cls2.parameters(), 'lr': LEARNING_RATE},\n",
        "            {'params': model.cls3.parameters(), 'lr': LEARNING_RATE},\n",
        "        ])\n",
        "\n",
        "        try:\n",
        "            source_data, source_label = source1_iter.next()\n",
        "        except Exception as err:\n",
        "            source1_iter = iter(source1_loader)\n",
        "            source_data, source_label = source1_iter.next()\n",
        "        \n",
        "        if cuda:\n",
        "            source_data, source_label = source_data.cuda(), source_label.reshape(-1).cuda()\n",
        "            \n",
        "        source_data, source_label = Variable(source_data), Variable(source_label)\n",
        "        optimizer.zero_grad()\n",
        "\n",
        "        cls_loss = model(source_data, source_label, mark=1)\n",
        "        loss = cls_loss\n",
        "        loss.backward()\n",
        "        optimizer.step()\n",
        "\n",
        "        if i % log_interval == 0:\n",
        "            print('Train source1 iter: {} [({:.0f}%)]\\tLoss: {:.6f}'.format(\n",
        "                i, 100. * i / iteration, loss.item()))\n",
        "\n",
        "        try:\n",
        "            source_data, source_label = source2_iter.next()\n",
        "        except Exception as err:\n",
        "            source2_iter = iter(source2_loader)\n",
        "            source_data, source_label = source2_iter.next()\n",
        "      \n",
        "        if cuda:\n",
        "            source_data, source_label = source_data.cuda(), source_label.reshape(-1).cuda()\n",
        "\n",
        "        source_data, source_label = Variable(source_data), Variable(source_label)\n",
        "        optimizer.zero_grad()\n",
        "\n",
        "        cls_loss = model(source_data, source_label, mark=2)\n",
        "        loss = cls_loss\n",
        "        loss.backward()\n",
        "        optimizer.step()\n",
        "\n",
        "        if i % log_interval == 0:\n",
        "            print('Train source2 iter: {} [({:.0f}%)]\\tLoss: {:.6f}'.format(\n",
        "                i, 100. * i / iteration, loss.item()))\n",
        "\n",
        "        try:\n",
        "            source_data, source_label = source3_iter.next()\n",
        "        except Exception as err:\n",
        "            source3_iter = iter(source3_loader)\n",
        "            source_data, source_label = source3_iter.next()\n",
        "\n",
        "        if cuda:\n",
        "            source_data, source_label = source_data.cuda(), source_label.reshape(-1).cuda()\n",
        "\n",
        "        source_data, source_label = Variable(source_data), Variable(source_label)\n",
        "        optimizer.zero_grad()\n",
        "\n",
        "        cls_loss = model(source_data, source_label, mark=3)\n",
        "        loss = cls_loss\n",
        "        loss.backward()\n",
        "        optimizer.step()\n",
        "\n",
        "        if i % log_interval == 0:\n",
        "            print('Train source3 iter: {} [({:.0f}%)]\\tLoss: {:.6f}'.format(\n",
        "                i, 100. * i / iteration, loss.item()))\n",
        "            \n",
        "    return model\n",
        "\n",
        "def test(model):\n",
        "    model.eval()\n",
        "    test_loss = 0\n",
        "    correct = 0\n",
        "    correct1 = 0\n",
        "    correct2 = 0\n",
        "    correct3 = 0\n",
        "    target_test_loader = load_testing(root_path, target_name, batch_size, kwargs)\n",
        "    with torch.no_grad():\n",
        "        for data, target in target_test_loader:\n",
        "            if cuda:\n",
        "                data, target = data.cuda(), target.cuda()\n",
        "            data, target = Variable(data), Variable(target)\n",
        "            pred1, pred2, pred3, _, _, _ = model(data, training=False)\n",
        "\n",
        "            # pred1 = torch.nn.functional.softmax(pred1, dim=1)\n",
        "            # pred2 = torch.nn.functional.softmax(pred2, dim=1)\n",
        "            # pred3 = torch.nn.functional.softmax(pred3, dim=1)\n",
        "\n",
        "            pred = (pred1 + pred2 + pred3) / 3\n",
        "            test_loss += F.cross_entropy(pred, target).item()  # sum up batch loss\n",
        "            pred = pred.data.max(1)[1]  # get the index of the max log-probability\n",
        "            correct += pred.eq(target.data.view_as(pred)).cpu().sum()\n",
        "            pred = pred1.data.max(1)[1]  # get the index of the max log-probability\n",
        "            correct1 += pred.eq(target.data.view_as(pred)).cpu().sum()\n",
        "            pred = pred2.data.max(1)[1]  # get the index of the max log-probability\n",
        "            correct2 += pred.eq(target.data.view_as(pred)).cpu().sum()\n",
        "            pred = pred3.data.max(1)[1]  # get the index of the max log-probability\n",
        "            correct3 += pred.eq(target.data.view_as(pred)).cpu().sum()\n",
        "\n",
        "        test_loss /= len(target_test_loader.dataset)\n",
        "        print(target_name, '\\nTest set: Average loss: {:.4f}, Accuracy: {}/{} ({:.0f}%)\\n'.format(\n",
        "            test_loss, correct, len(target_test_loader.dataset),\n",
        "            100. * correct / len(target_test_loader.dataset)))\n",
        "        print('\\nsource1 accnum {}, source2 accnum {}，source3 accnum {}'.format(correct1, correct2, correct3))\n",
        "    return correct\n",
        "\n",
        "if __name__ == '__main__':\n",
        "    model = SourceClassifer(n_classes=class_num)\n",
        "    best_model_wts = copy.deepcopy(model.state_dict())\n",
        "    if cuda:\n",
        "        model.cuda()\n",
        "    correct = 0\n",
        "    for _ in range(epoch):\n",
        "        model = train(model)\n",
        "        t_correct = test(model)\n",
        "        if t_correct > correct:\n",
        "            correct = t_correct\n",
        "            best_model_wts = copy.deepcopy(model.state_dict())\n",
        "        print(source1_name, source2_name, source3_name, \"to\", target_name, \"%s max correct:\" % target_name, correct.item(), \"\\n\")"
      ],
      "execution_count": null,
      "outputs": []
    },
    {
      "cell_type": "code",
      "metadata": {
        "id": "dhcv2Qj8u1jq"
      },
      "source": [
        "torch.save(best_model_wts, f\"./results/source_classifer_ACP\")"
      ],
      "execution_count": null,
      "outputs": []
    },
    {
      "cell_type": "code",
      "metadata": {
        "id": "UQ4f4qOWOMG-"
      },
      "source": [
        "sourceClassifier = SourceClassifer(n_classes=class_num)\n",
        "sourceClassifier.load_state_dict(torch.load(\"./results/source_classifer_ACP\"))\n",
        "correct = test(model)"
      ],
      "execution_count": null,
      "outputs": []
    },
    {
      "cell_type": "code",
      "metadata": {
        "id": "Mwm6O7lJOuk_"
      },
      "source": [
        ""
      ],
      "execution_count": null,
      "outputs": []
    }
  ]
}